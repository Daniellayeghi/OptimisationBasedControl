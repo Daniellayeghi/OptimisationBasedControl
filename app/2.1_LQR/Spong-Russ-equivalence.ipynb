{
 "cells": [
  {
   "cell_type": "markdown",
   "metadata": {},
   "source": [
    "I assume Spong angles are $\\theta_1$ and $\\theta_2$."
   ]
  },
  {
   "cell_type": "code",
   "execution_count": null,
   "metadata": {},
   "outputs": [],
   "source": [
    "from __future__ import print_function, division\n",
    "from sympy import *\n",
    "init_printing(use_unicode=True)"
   ]
  },
  {
   "cell_type": "code",
   "execution_count": null,
   "metadata": {},
   "outputs": [],
   "source": [
    "m1, l1, lc1, I1, theta1, theta1dot = symbols('m1 l1 l_{c1} I1 theta1 thetadot1')\n",
    "m2, lc2, I2, theta2, theta2dot = symbols('m2 l_{c2} I2 theta2 thetadot2')"
   ]
  },
  {
   "cell_type": "code",
   "execution_count": null,
   "metadata": {},
   "outputs": [],
   "source": [
    "M = Matrix([[m2*l1*(l1+2*lc2*cos(theta2))+I1+I2,\n",
    "             m2*l1*lc2*cos(theta2)+I2],\n",
    "            [m2*l1*lc2*cos(theta2)+I2,\n",
    "             I2]])"
   ]
  },
  {
   "cell_type": "code",
   "execution_count": null,
   "metadata": {},
   "outputs": [],
   "source": [
    "M"
   ]
  },
  {
   "cell_type": "code",
   "execution_count": null,
   "metadata": {},
   "outputs": [],
   "source": [
    "C = Matrix([[-2*m2*l1*lc2*sin(theta2)*theta2dot,\n",
    "             -m2*l1*lc2*sin(theta2)*theta2dot],\n",
    "            [m2*l1*lc2*sin(theta2)*theta1dot,\n",
    "             0]])"
   ]
  },
  {
   "cell_type": "code",
   "execution_count": null,
   "metadata": {},
   "outputs": [],
   "source": [
    "C"
   ]
  },
  {
   "cell_type": "code",
   "execution_count": null,
   "metadata": {},
   "outputs": [],
   "source": [
    "g = symbols('g')\n",
    "G = g*Matrix([[-m1*lc1*sin(theta1)-m2*(l1*sin(theta1)+lc2*sin(theta1+theta2))],\n",
    "              [-m2*lc2*sin(theta1+theta2)]])"
   ]
  },
  {
   "cell_type": "code",
   "execution_count": null,
   "metadata": {},
   "outputs": [],
   "source": [
    "G"
   ]
  },
  {
   "cell_type": "markdown",
   "metadata": {},
   "source": [
    "Now, let's change the notations to the one that Russ used [here](http://underactuated.csail.mit.edu/underactuated.html?chapter=acrobot) by having ${}^{\\texttt{Russ}}I={}^{\\texttt{Spong}}I+ml_c^2$ and ${}^{\\texttt{Russ}}\\theta_1={}^{\\texttt{Spong}}\\theta_1+\\pi/2$"
   ]
  },
  {
   "cell_type": "code",
   "execution_count": null,
   "metadata": {},
   "outputs": [],
   "source": [
    "q1, q1dot = symbols('q1 q1dot')\n",
    "q2, q2dot = symbols('q2 q2dot')"
   ]
  },
  {
   "cell_type": "code",
   "execution_count": null,
   "metadata": {},
   "outputs": [],
   "source": [
    "M.subs([(I1,I1+m1*lc1**2), (I2,I2+m2*lc2**2), \n",
    "        (theta1,q1+pi/2), (theta2,q2)])"
   ]
  },
  {
   "cell_type": "code",
   "execution_count": null,
   "metadata": {},
   "outputs": [],
   "source": [
    "C.subs([(I1,I1+m1*lc1**2), (I2,I2+m2*lc2**2),\n",
    "        (theta1,q1+pi/2), (theta2,q2)])"
   ]
  },
  {
   "cell_type": "code",
   "execution_count": null,
   "metadata": {},
   "outputs": [],
   "source": [
    "G.subs([(I1,I1+m1*lc1**2), (I2,I2+m2*lc2**2),\n",
    "        (theta1,q1+pi/2), (theta2,q2)])"
   ]
  }
 ],
 "metadata": {
  "kernelspec": {
   "display_name": "Python 3",
   "language": "python",
   "name": "python3"
  },
  "language_info": {
   "codemirror_mode": {
    "name": "ipython",
    "version": 3
   },
   "file_extension": ".py",
   "mimetype": "text/x-python",
   "name": "python",
   "nbconvert_exporter": "python",
   "pygments_lexer": "ipython3",
   "version": "3.7.3"
  }
 },
 "nbformat": 4,
 "nbformat_minor": 2
}
