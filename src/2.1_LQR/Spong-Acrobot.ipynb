{
 "cells": [
  {
   "cell_type": "code",
   "execution_count": null,
   "metadata": {},
   "outputs": [],
   "source": [
    "from __future__ import print_function, division\n",
    "from sympy import *\n",
    "init_printing(use_unicode=True)"
   ]
  },
  {
   "cell_type": "markdown",
   "metadata": {},
   "source": [
    "## Spong"
   ]
  },
  {
   "cell_type": "code",
   "execution_count": null,
   "metadata": {},
   "outputs": [],
   "source": [
    "m1, l1, lc1, I1, q1, q1dot = symbols('m1 l1 lc1 I1 q1 qdot1')\n",
    "m2, lc2, I2, q2, q2dot = symbols('m2 lc2 I2 q2 qdot2')"
   ]
  },
  {
   "cell_type": "code",
   "execution_count": null,
   "metadata": {},
   "outputs": [],
   "source": [
    "M = Matrix([[m1*lc1**2+m2*(l1**2+lc2**2+2*l1*lc2*cos(q2))+I1+I2,\n",
    "             m2*(lc2**2+l1*lc2*cos(q2))+I2],\n",
    "            [m2*(lc2**2+l1*lc2*cos(q2))+I2,\n",
    "             m2*lc2**2+I2]])"
   ]
  },
  {
   "cell_type": "code",
   "execution_count": null,
   "metadata": {},
   "outputs": [],
   "source": [
    "M"
   ]
  },
  {
   "cell_type": "code",
   "execution_count": null,
   "metadata": {},
   "outputs": [],
   "source": [
    "C = Matrix([[-2*m2*l1*lc2*sin(q2)*q2dot,\n",
    "             -m2*l1*lc2*sin(q2)*q2dot],\n",
    "            [m2*l1*lc2*sin(q2)*q1dot,\n",
    "             0]])"
   ]
  },
  {
   "cell_type": "code",
   "execution_count": null,
   "metadata": {},
   "outputs": [],
   "source": [
    "C"
   ]
  },
  {
   "cell_type": "code",
   "execution_count": null,
   "metadata": {},
   "outputs": [],
   "source": [
    "g = symbols('g')"
   ]
  },
  {
   "cell_type": "code",
   "execution_count": null,
   "metadata": {},
   "outputs": [],
   "source": [
    "G = g*Matrix([[(m1*lc1+m2*l1)*cos(q1)+m2*lc2*cos(q1+q2)],\n",
    "              [m2*lc2*cos(q1+q2)]])"
   ]
  },
  {
   "cell_type": "code",
   "execution_count": null,
   "metadata": {},
   "outputs": [],
   "source": [
    "G"
   ]
  },
  {
   "cell_type": "code",
   "execution_count": null,
   "metadata": {},
   "outputs": [],
   "source": [
    "u= symbols('u')"
   ]
  },
  {
   "cell_type": "code",
   "execution_count": null,
   "metadata": {},
   "outputs": [],
   "source": [
    "qdotdot = -M**(-1)*(C*Matrix([[q1dot],[q2dot]])+G  \n",
    "          -Matrix([[0],[1]])*u)"
   ]
  },
  {
   "cell_type": "code",
   "execution_count": null,
   "metadata": {},
   "outputs": [],
   "source": [
    "collect(factor(simplify(cancel(qdotdot[0]))),q1dot)"
   ]
  },
  {
   "cell_type": "markdown",
   "metadata": {},
   "source": [
    "### Make sure the system is at rest in fixed points"
   ]
  },
  {
   "cell_type": "code",
   "execution_count": null,
   "metadata": {},
   "outputs": [],
   "source": [
    "qdotdot.subs([(q1,pi/2),(q2,0), (u,0),(q1dot,0), (q2dot,0)])"
   ]
  },
  {
   "cell_type": "code",
   "execution_count": null,
   "metadata": {},
   "outputs": [],
   "source": [
    "qdotdot.subs([(q1,-pi/2),(q2,0), (u,0),(q1dot,0), (q2dot,0)])"
   ]
  },
  {
   "cell_type": "code",
   "execution_count": null,
   "metadata": {},
   "outputs": [],
   "source": [
    "diff(qdotdot[0],q1dot).subs([(q1,pi/2),(q2,0), (u,0), (q1dot,0), (q2dot,0)])"
   ]
  },
  {
   "cell_type": "code",
   "execution_count": null,
   "metadata": {},
   "outputs": [],
   "source": [
    "A20=diff(qdotdot[0],q1).subs([(q1,pi/2),(q2,0), \n",
    "                              (u,0), (q1dot,0), (q2dot,0)])\n",
    "A20.subs([(m1,1), (m2,1), (l1,1), (lc1,0.5), (lc2,1),\n",
    "          (I1,0.083), (I2,0.33), (g,9.8)])"
   ]
  },
  {
   "cell_type": "code",
   "execution_count": null,
   "metadata": {},
   "outputs": [],
   "source": [
    "A21=diff(qdotdot[0],q2).subs([(q1,pi/2),(q2,0), \n",
    "                              (u,0), (q1dot,0), (q2dot,0)])\n",
    "A21.subs([(m1,1), (m2,1), (l1,1), (lc1,0.5), (lc2,1),\n",
    "          (I1,0.083), (I2,0.33), (g,9.8)])"
   ]
  },
  {
   "cell_type": "code",
   "execution_count": null,
   "metadata": {},
   "outputs": [],
   "source": [
    "A30=diff(qdotdot[1],q1).subs([(q1,pi/2),(q2,0), \n",
    "                              (u,0), (q1dot,0), (q2dot,0)])\n",
    "A30.subs([(m1,1), (m2,1), (l1,1), (lc1,0.5), (lc2,1),\n",
    "          (I1,0.083), (I2,0.33), (g,9.8)])"
   ]
  },
  {
   "cell_type": "code",
   "execution_count": null,
   "metadata": {},
   "outputs": [],
   "source": [
    "A31=diff(qdotdot[1],q2).subs([(q1,pi/2),(q2,0), \n",
    "                              (u,0), (q1dot,0), (q2dot,0)])\n",
    "A31.subs([(m1,1), (m2,1), (l1,1), (lc1,0.5), (lc2,1),\n",
    "          (I1,0.083), (I2,0.33), (g,9.8)])"
   ]
  },
  {
   "cell_type": "code",
   "execution_count": null,
   "metadata": {},
   "outputs": [],
   "source": [
    "B20=diff(qdotdot[0],u).subs([(q1,pi/2),(q2,0), \n",
    "                              (u,0), (q1dot,0), (q2dot,0)])\n",
    "B20.subs([(m1,1), (m2,1), (l1,1), (lc1,0.5), (lc2,1),\n",
    "          (I1,0.083), (I2,0.33), (g,9.8)])"
   ]
  },
  {
   "cell_type": "code",
   "execution_count": null,
   "metadata": {},
   "outputs": [],
   "source": [
    "B30=diff(qdotdot[1],u).subs([(q1,pi/2),(q2,0), \n",
    "                              (u,0), (q1dot,0), (q2dot,0)])\n",
    "B30.subs([(m1,1), (m2,1), (l1,1),  (lc1,0.5), (lc2,1),\n",
    "          (I1,0.083), (I2,0.33), (g,9.8)])"
   ]
  }
 ],
 "metadata": {
  "kernelspec": {
   "display_name": "Python 3",
   "language": "python",
   "name": "python3"
  },
  "language_info": {
   "codemirror_mode": {
    "name": "ipython",
    "version": 3
   },
   "file_extension": ".py",
   "mimetype": "text/x-python",
   "name": "python",
   "nbconvert_exporter": "python",
   "pygments_lexer": "ipython3",
   "version": "3.7.3"
  }
 },
 "nbformat": 4,
 "nbformat_minor": 2
}
